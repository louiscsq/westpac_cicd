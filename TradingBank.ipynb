{
 "cells": [
  {
   "cell_type": "code",
   "execution_count": 0,
   "metadata": {
    "application/vnd.databricks.v1+cell": {
     "cellMetadata": {
      "byteLimit": 2048000,
      "rowLimit": 10000
     },
     "inputWidgets": {},
     "nuid": "2e71e5d2-a6a4-4359-8537-3b83464e5fd9",
     "showTitle": false,
     "tableResultSettingsMap": {},
     "title": ""
    }
   },
   "outputs": [],
   "source": [
    "import logging\n",
    "from pyspark.sql.types import *\n",
    "from com.impetus.databricks.common.utilities import *\n",
    "from datetime import datetime\n",
    "import TradingBank_properties as params\n",
    "from pyspark.sql.functions import lit\n",
    "import sys\n",
    "sys.path.append('/Workspace/TreasuryDataWS/TreasuryCodeUC1/common/')\n",
    "import customFunctions as cf\n",
    "import globalconfig as gc"
   ]
  },
  {
   "cell_type": "code",
   "execution_count": 0,
   "metadata": {
    "application/vnd.databricks.v1+cell": {
     "cellMetadata": {
      "byteLimit": 2048000,
      "rowLimit": 10000
     },
     "inputWidgets": {},
     "nuid": "360816c7-803a-4372-8563-31d9ad6f941c",
     "showTitle": false,
     "tableResultSettingsMap": {},
     "title": ""
    }
   },
   "outputs": [],
   "source": [
    "log = logging.getLogger(\"TradingBank\")\n",
    "utils = Utils()\n",
    "utils.initialize(\"TradingBank\")"
   ]
  },
  {
   "cell_type": "code",
   "execution_count": 0,
   "metadata": {
    "application/vnd.databricks.v1+cell": {
     "cellMetadata": {
      "byteLimit": 2048000,
      "rowLimit": 10000
     },
     "inputWidgets": {},
     "nuid": "366c2d9a-8337-45bc-ae89-6604136c459f",
     "showTitle": false,
     "tableResultSettingsMap": {},
     "title": ""
    }
   },
   "outputs": [],
   "source": [
    "TDM_CDM_Working = gc.TDM_CDM_Working"
   ]
  },
  {
   "cell_type": "code",
   "execution_count": 0,
   "metadata": {
    "application/vnd.databricks.v1+cell": {
     "cellMetadata": {
      "byteLimit": 2048000,
      "rowLimit": 10000
     },
     "inputWidgets": {},
     "nuid": "397e43cc-51e9-447b-9d32-d2c82c8667b2",
     "showTitle": false,
     "tableResultSettingsMap": {},
     "title": ""
    }
   },
   "outputs": [],
   "source": [
    "################################################################################\n",
    "# Task Name: Package/V_Log_Package_Start\n",
    "# Task Type: Microsoft.ScriptTask\n",
    "# Status   : Success   \n",
    "################################################################################\n",
    "# test 1\n",
    "def Package_V_Log_Package_Start():\n",
    "    log.info(\"executing task: V_Log_Package_Start\")\n",
    "    try:\n",
    "        print(datetime.now().strftime(\"%Y-%m-%d %H:%M:%S.%f\"))\n",
    "        print(\">>>> Initialising Package.\")\n",
    "        print(\"\"\"params.User_V_Load_ID=dbutils.notebook.run(\n",
    "            \"dbo_ETL_Package_Init_TDM\", \n",
    "            0, \n",
    "            {\n",
    "                \"p_lineage_id\": params.User_C_Lineage_Id,\n",
    "                \"p_package_id\": params.User_C_Package_Id,\n",
    "                \"p_run_id\": params.User_C_Run_Id,\n",
    "                \"p_load_date\": params.User_C_Reporting_Date,\n",
    "                \"p_package_version\": params.System_VersionMajor,\n",
    "                \"p_load_start_time\": p_load_start_time,\n",
    "                \"p_execution_guid\": params.System_ExecutionInstanceGUID,\n",
    "                \"p_group_id\": params.User_C_Group_ID,\n",
    "                \"p_schedule_id\": params.User_C_Schedule_ID\n",
    "            }\n",
    "        )\"\"\")\n",
    "    except Exception as e:\n",
    "        print(\"Error occured while executing task: Package/V_Log_Package_Start\")\n",
    "        raise e\n",
    "    else:\n",
    "        utils.executeMethod([Exec_V_Log_Package_Start])"
   ]
  },
  {
   "cell_type": "code",
   "execution_count": 0,
   "metadata": {
    "application/vnd.databricks.v1+cell": {
     "cellMetadata": {
      "byteLimit": 2048000,
      "rowLimit": 10000
     },
     "inputWidgets": {},
     "nuid": "62de7afa-7aa3-49dd-884e-ad33f139eedb",
     "showTitle": false,
     "tableResultSettingsMap": {},
     "title": ""
    }
   },
   "outputs": [],
   "source": [
    "################################################################################\n",
    "# Task Name: Package/Exec_V_Log_Package_Start\n",
    "# Task Type: Microsoft.ExecuteSQLTask\n",
    "# Status   : Success  \n",
    "################################################################################\n",
    "def Exec_V_Log_Package_Start():\n",
    "    log.info(\"executing task: Exec_V_Log_Package_Start\")\n",
    "    try:\n",
    "        p_load_start_time=datetime.now().strftime(\"%Y-%m-%d %H:%M:%S.%f\")\n",
    "\n",
    "        params.User_C_Reporting_Date = utils.executeQuery(f\"\"\"SELECT\n",
    "                        make_date( \n",
    "\n",
    "      substring('{params.User_C_Reporting_Date}',8, 11)  ,                   \n",
    "      case\n",
    "        when upper(substring('{params.User_C_Reporting_Date}',4, 3)) = 'JAN'                       then '01'\n",
    "        when upper(substring('{params.User_C_Reporting_Date}',4, 3)) = 'FEB'                       then '02'\n",
    "        when upper(substring('{params.User_C_Reporting_Date}',4, 3)) = 'MAR'                       then '03'\n",
    "        when upper(substring('{params.User_C_Reporting_Date}',4, 3)) = 'APR'                       then '04'\n",
    "        when upper(substring('{params.User_C_Reporting_Date}',4, 3)) = 'MAY'                       then '05'\n",
    "        when upper(substring('{params.User_C_Reporting_Date}',4, 3)) = 'JUN'                       then '06'\n",
    "        when upper(substring('{params.User_C_Reporting_Date}',4, 3)) = 'JUL'                       then '07'\n",
    "        when upper(substring('{params.User_C_Reporting_Date}',4, 3)) = 'AUG'                       then '08'\n",
    "        when upper(substring('{params.User_C_Reporting_Date}',4, 3)) = 'SEP'                       then '09'\n",
    "        when upper(substring('{params.User_C_Reporting_Date}',4, 3)) = 'OCT'                       then '10'\n",
    "        when upper(substring('{params.User_C_Reporting_Date}',4, 3)) = 'NOV'                       then '11'\n",
    "        when upper(substring('{params.User_C_Reporting_Date}',4, 3)) = 'DEC'                       then '12'\n",
    "      end,\n",
    "      substring('{params.User_C_Reporting_Date}',1, 2)\n",
    "      )  AS new_date\n",
    "                    \"\"\").resultObject.first()[0]\n",
    "\n",
    "        # params.User_V_Load_ID=dbutils.notebook.run(\n",
    "        #     \"dbo_ETL_Package_Init_TDM\", \n",
    "        #     0, \n",
    "        #     {\n",
    "        #         \"p_lineage_id\": params.User_C_Lineage_Id,\n",
    "        #         \"p_package_id\": params.User_C_Package_Id,\n",
    "        #         \"p_run_id\": params.User_C_Run_Id,\n",
    "        #         \"p_load_date\": params.User_C_Reporting_Date,\n",
    "        #         \"p_package_version\": params.System_VersionMajor,\n",
    "        #         \"p_load_start_time\": p_load_start_time,\n",
    "        #         \"p_execution_guid\": params.System_ExecutionInstanceGUID,\n",
    "        #         \"p_group_id\": params.User_C_Group_ID,\n",
    "        #         \"p_schedule_id\": params.User_C_Schedule_ID\n",
    "        #     }\n",
    "        # )\n",
    "        \n",
    "        \n",
    "        params.User_V_Load_ID = cf.dbo_ETL_Package_Init_TDM(params.User_C_Lineage_Id,\n",
    "                                                       params.User_C_Package_Id,\n",
    "                                                       params.User_C_Run_Id,\n",
    "                                                       params.User_C_Reporting_Date,\n",
    "                                                       params.System_VersionMajor,\n",
    "                                                       p_load_start_time,\n",
    "                                                       params.System_ExecutionInstanceGUID,\n",
    "                                                       params.User_C_Group_ID,\n",
    "                                                       params.User_C_Schedule_ID,\n",
    "                                                       0\n",
    "                                                       )\n",
    "        \n",
    "        \n",
    "\n",
    "    except Exception as e:\n",
    "        print(\"Error occurred while executing task: Package/Exec V_Log_Package_Start\")\n",
    "        raise e\n",
    "    else:        \n",
    "        utils.executeMethod([Package_Data_Flow_Container_Has_Event_Handler_to_Log_Errors])\n"
   ]
  },
  {
   "cell_type": "code",
   "execution_count": 0,
   "metadata": {
    "application/vnd.databricks.v1+cell": {
     "cellMetadata": {
      "byteLimit": 2048000,
      "rowLimit": 10000
     },
     "inputWidgets": {},
     "nuid": "cc8c806d-d88d-4fc5-8b8a-a2c1bc2d414f",
     "showTitle": false,
     "tableResultSettingsMap": {},
     "title": ""
    }
   },
   "outputs": [],
   "source": [
    "################################################################################\n",
    "# Task Name: Package/Data Flow Container - Has Event Handler to Log Errors\n",
    "# Task Type: STOCK:SEQUENCE\n",
    "# Status   : Success  \n",
    "################################################################################\n",
    "def Package_Data_Flow_Container_Has_Event_Handler_to_Log_Errors():\n",
    "    log.info(\"executing task: Data Flow Container - Has Event Handler to Log Errors\")\n",
    "    try:\n",
    "        utils.executeMethod([Package_Data_Flow_Container_Has_Event_Handler_to_Log_Errors_Delete_Existing])\n",
    "\n",
    "    except Exception as e:\n",
    "        print(\"Error occured while executing task: Package/Data Flow Container - Has Event Handler to Log Errors\")\n",
    "        utils.executeMethod([Package_Data_Flow_Container_Has_Event_Handler_to_Log_Errors_EventHandlers_OnError_Log_Error])\n",
    "        raise e\n",
    "    \n",
    "    else:\n",
    "        utils.executeMethod([Package_Set_Package_Status_based_on_Row_counts])"
   ]
  },
  {
   "cell_type": "code",
   "execution_count": 0,
   "metadata": {
    "application/vnd.databricks.v1+cell": {
     "cellMetadata": {
      "byteLimit": 2048000,
      "rowLimit": 10000
     },
     "inputWidgets": {},
     "nuid": "acf2360d-ef22-4968-a201-3a7cbb05997d",
     "showTitle": false,
     "tableResultSettingsMap": {},
     "title": ""
    }
   },
   "outputs": [],
   "source": [
    "################################################################################\n",
    "# Task Name: Package/Data Flow Container - Has Event Handler to Log Errors/Delete Existing\n",
    "# Task Type: STOCK:SEQUENCE\n",
    "# Status   : Success  \n",
    "################################################################################\n",
    "def Package_Data_Flow_Container_Has_Event_Handler_to_Log_Errors_Delete_Existing():\n",
    "    log.info(\"executing task: Delete Existing\")\n",
    "    try:\n",
    "        utils.executeMethod([Package_Data_Flow_Container_Has_Event_Handler_to_Log_Errors_Delete_Existing_V_DeleteStatement])\n",
    "\n",
    "    except Exception as e:\n",
    "        print(\"Error occured while executing task: Package/Data Flow Container - Has Event Handler to Log Errors/Delete Existing\")\n",
    "        raise e\n",
    "    \n",
    "    else:\n",
    "        utils.executeMethod([Package_Data_Flow_Container_Has_Event_Handler_to_Log_Errors_Add_Deposit])"
   ]
  },
  {
   "cell_type": "code",
   "execution_count": 0,
   "metadata": {
    "application/vnd.databricks.v1+cell": {
     "cellMetadata": {
      "byteLimit": 2048000,
      "rowLimit": 10000
     },
     "inputWidgets": {},
     "nuid": "ee6abd9e-c7a6-4475-8307-4c451e6a19fd",
     "showTitle": false,
     "tableResultSettingsMap": {},
     "title": ""
    }
   },
   "outputs": [],
   "source": [
    "################################################################################\n",
    "# Task Name: Package/Data Flow Container - Has Event Handler to Log Errors/Delete Existing/V_DeleteStatement\n",
    "# Task Type: Microsoft.ScriptTask\n",
    "# Status   : Success   \n",
    "################################################################################\n",
    "def Package_Data_Flow_Container_Has_Event_Handler_to_Log_Errors_Delete_Existing_V_DeleteStatement():\n",
    "    #log.info(\"executing task: V_DeleteStatement\")\n",
    "    try:\n",
    "        LogCall = \"\"\"dbutils.notebook.run(\n",
    "            \"dbo_uspDeleteDepositsWorking\", \n",
    "            0, \n",
    "            {\n",
    "                \"ReportingDate\": params.User_C_Reporting_Date,\n",
    "                \"SourceID\": params.User_C_Source_ID,\n",
    "                \"Frequency\": params.User_C_Frequency\n",
    "            }\n",
    "        )\"\"\"\n",
    "        params.User_V_Log_Package_Sql_Cmd = LogCall ####\n",
    "        # params.User_V_Log_Package_Sql_Cmd = 'dbutils.notebook.run(dbo_uspDeleteDepositsWorking)'\n",
    "        User_V_Log_Package_Sql_Desc = \"Delete existing data\"\n",
    "        params.User_V_Rowcount_Source = 0\n",
    "        params.User_V_Rowcount_Insert = 0\n",
    "        params.User_V_Rowcount_Update = 0\n",
    "        params.User_V_Rowcount_Delete = 0\n",
    "        print(datetime.now().strftime(\"%Y-%m-%d %H:%M:%S.%f\"))\n",
    "        print(\">>>> Running :\",LogCall,\" \")\n",
    "    except Exception as e:\n",
    "        print(\"Error occured while executing task: Package/Data Flow Container - Has Event Handler to Log Errors/Delete Existing/V_DeleteStatement\")\n",
    "\n",
    "        raise e\n",
    "    else:\n",
    "        utils.executeMethod([Package_Data_Flow_Container_Has_Event_Handler_to_Log_Errors_Delete_Existing_Exec_V_Log_Package_Sql_Start])"
   ]
  },
  {
   "cell_type": "code",
   "execution_count": 0,
   "metadata": {
    "application/vnd.databricks.v1+cell": {
     "cellMetadata": {
      "byteLimit": 2048000,
      "rowLimit": 10000
     },
     "inputWidgets": {},
     "nuid": "a1e80719-8a86-492b-b295-cf4c72235646",
     "showTitle": false,
     "tableResultSettingsMap": {},
     "title": ""
    }
   },
   "outputs": [],
   "source": [
    "def Package_Data_Flow_Container_Has_Event_Handler_to_Log_Errors_Delete_Existing_Exec_V_Log_Package_Sql_Start():\n",
    "    log.info(\"executing task: Exec V_Log_Package_Sql_Start\")\n",
    "    try:\n",
    "        IN_SQL_START_DATETIME = datetime.now().strftime(\"%Y-%m-%d %H:%M:%S.%f\")\n",
    "        print(IN_SQL_START_DATETIME)\n",
    "        # params.User_V_Load_Sequence=dbutils.notebook.run(\"dbo_usp_Insert_ETL_Package_Sql_Log\",0,\n",
    "        #     {\n",
    "        #     \"IN_LOAD_ID\": params.User_V_Load_ID,\n",
    "        #     \"IN_LINEAGE_ID\": params.User_C_Lineage_Id,\n",
    "        #     \"IN_PACKAGE_ID\": params.User_C_Package_Id,\n",
    "        #     \"IN_RUN_ID\": params.User_C_Run_Id,\n",
    "        #     \"IN_GROUP_ID\": params.User_C_Group_ID,\n",
    "        #     \"IN_SCHEDULE_ID\": params.User_C_Schedule_ID,\n",
    "        #     \"IN_LOAD_DATE\": params.User_C_Reporting_Date,\n",
    "        #     \"IN_SQL_START_DATETIME\": datetime.now().strftime(\"%Y-%m-%d %H:%M:%S.%f\"),\n",
    "        #     \"IN_SQL_DESCRIPTION\": params.V_Log_Package_Sql_Desc,\n",
    "        #     \"IN_RUNNING_SQL\": params.User_V_Log_Package_Sql_Cmd\n",
    "        #     })\n",
    "\n",
    "        \n",
    "\n",
    "        params.User_V_Load_Sequence = cf.dbo_usp_Insert_ETL_Package_Sql_Log(\n",
    "                    params.User_V_Load_ID,                    \n",
    "                    params.User_C_Lineage_Id,\n",
    "                    params.User_C_Package_Id,\n",
    "                    params.User_C_Run_Id,\n",
    "                    params.User_C_Group_ID,\n",
    "                    params.User_C_Schedule_ID,\n",
    "                    params.User_C_Reporting_Date,\n",
    "                    params.V_Log_Package_Sql_Desc,\n",
    "                    params.User_V_Log_Package_Sql_Cmd,\n",
    "                    datetime.now().strftime(\"%Y-%m-%d %H:%M:%S.%f\")\n",
    "                    ,0\n",
    "            )\n",
    "        \n",
    "        \n",
    "\n",
    "        \n",
    "    except Exception as e:\n",
    "        print(\"Error occured while executing task: Package/Data Flow Container - Has Event Handler to Log Errors/Delete Existing/Exec V_Log_Package_Sql_Start\")\n",
    "        raise e\n",
    "\n",
    "    else:\n",
    "        utils.executeMethod([Package_Data_Flow_Container_Has_Event_Handler_to_Log_Errors_Delete_Existing_Exec_V_DeleteStatement])"
   ]
  },
  {
   "cell_type": "code",
   "execution_count": 0,
   "metadata": {
    "application/vnd.databricks.v1+cell": {
     "cellMetadata": {
      "byteLimit": 2048000,
      "rowLimit": 10000
     },
     "inputWidgets": {},
     "nuid": "9ba95c32-9e80-4851-9aa1-986028e3cb4a",
     "showTitle": false,
     "tableResultSettingsMap": {},
     "title": ""
    }
   },
   "outputs": [],
   "source": [
    "################################################################################\n",
    "# Task Name: Package/Data Flow Container - Has Event Handler to Log Errors/Delete Existing/Exec V_DeleteStatement\n",
    "# Task Type: Microsoft.ExecuteSQLTask\n",
    "# Status   : Success  \n",
    "################################################################################\n",
    "def Package_Data_Flow_Container_Has_Event_Handler_to_Log_Errors_Delete_Existing_Exec_V_DeleteStatement():\n",
    "    log.info(\"executing task: Exec V_DeleteStatement\")\n",
    "    try:\n",
    "        dbutils.notebook.run(\n",
    "            f\"\"\"{gc.sp_path}/dbo_uspDeleteDepositsWorking\"\"\", \n",
    "            0, \n",
    "            {\n",
    "                \"ReportingDate\": params.User_C_Reporting_Date,\n",
    "                \"SourceID\": params.User_C_Source_ID,\n",
    "                \"Frequency\": params.User_C_Frequency\n",
    "            }\n",
    "        )\n",
    "\n",
    "    except Exception as e:\n",
    "        print(\"Error occured while executing task: Package/Data Flow Container - Has Event Handler to Log Errors/Delete Existing/Exec V_DeleteStatement\")\n",
    "        raise e\n",
    "\n",
    "    else:\n",
    "        utils.executeMethod([Package_Data_Flow_Container_Has_Event_Handler_to_Log_Errors_Delete_Existing_Exec_V_Log_Package_Sql_End])"
   ]
  },
  {
   "cell_type": "code",
   "execution_count": 0,
   "metadata": {
    "application/vnd.databricks.v1+cell": {
     "cellMetadata": {
      "byteLimit": 2048000,
      "rowLimit": 10000
     },
     "inputWidgets": {},
     "nuid": "5f24d852-242a-403c-b05b-a7dcab7682b1",
     "showTitle": false,
     "tableResultSettingsMap": {},
     "title": ""
    }
   },
   "outputs": [],
   "source": [
    "def Package_Data_Flow_Container_Has_Event_Handler_to_Log_Errors_Delete_Existing_Exec_V_Log_Package_Sql_End():\n",
    "    log.info(\"executing task: Exec V_Log_Package_Sql_End\")\n",
    "    try:\n",
    "        IN_SQL_END_DATETIME=datetime.now().strftime(\"%Y-%m-%d %H:%M:%S.%f\")\n",
    "        # dbutils.notebook.run(\"dbo_usp_Update_ETL_Package_Sql_Log\",0,\n",
    "        #     {\n",
    "        #     \"IN_LOAD_ID\": params.User_V_Load_ID,\n",
    "        #     \"IN_LOAD_SEQUENCE\": params.User_V_Load_Sequence,\n",
    "        #     \"IN_SQL_END_DATETIME\": IN_SQL_END_DATETIME,\n",
    "        #     \"IN_ROW_SOURCE_COUNT\": params.User_V_Rowcount_Source,\n",
    "        #     \"IN_ROW_INSERT_COUNT\": params.User_V_Rowcount_Insert,\n",
    "        #     \"IN_ROW_UPDATE_COUNT\": params.User_V_Rowcount_Update,\n",
    "        #     \"IN_ROW_DELETE_COUNT\": params.User_V_Rowcount_Delete,\n",
    "        #     \"IN_ROW_UNMATCHEDFK_COUNT\": None\n",
    "        #     })\n",
    "        \n",
    "        cf.dbo_usp_Update_ETL_Package_Sql_Log(\n",
    "            params.User_V_Load_ID,\n",
    "            params.User_V_Load_Sequence,\n",
    "            IN_SQL_END_DATETIME,\n",
    "            params.User_V_Rowcount_Source,\n",
    "            params.User_V_Rowcount_Insert,\n",
    "            params.User_V_Rowcount_Update,\n",
    "            params.User_V_Rowcount_Delete,\n",
    "            None\n",
    "            )\n",
    "\n",
    "    except Exception as e:\n",
    "        print(\"Error occured while executing task: Package/Data Flow Container - Has Event Handler to Log Errors/Delete Existing/Exec V_Log_Package_Sql_End\")\n",
    "        raise e\n",
    "\n"
   ]
  },
  {
   "cell_type": "code",
   "execution_count": 0,
   "metadata": {
    "application/vnd.databricks.v1+cell": {
     "cellMetadata": {
      "byteLimit": 2048000,
      "rowLimit": 10000
     },
     "inputWidgets": {},
     "nuid": "236de489-8630-4f77-a2e4-33591f59a533",
     "showTitle": false,
     "tableResultSettingsMap": {},
     "title": ""
    }
   },
   "outputs": [],
   "source": [
    "################################################################################\n",
    "# Task Name: Package/Data Flow Container - Has Event Handler to Log Errors/Add Deposit\n",
    "# Task Type: STOCK:SEQUENCE\n",
    "# Status   : Success  \n",
    "################################################################################\n",
    "def Package_Data_Flow_Container_Has_Event_Handler_to_Log_Errors_Add_Deposit():\n",
    "    log.info(\"executing task: Add Deposit\")\n",
    "    try:\n",
    "        utils.executeMethod([Package_Data_Flow_Container_Has_Event_Handler_to_Log_Errors_Add_Deposit_V_SelectStatement])\n",
    "\n",
    "    except Exception as e:\n",
    "        print(\"Error occured while executing task: Package/Data Flow Container - Has Event Handler to Log Errors/Add Deposit\")\n",
    "        raise e"
   ]
  },
  {
   "cell_type": "code",
   "execution_count": 0,
   "metadata": {
    "application/vnd.databricks.v1+cell": {
     "cellMetadata": {
      "byteLimit": 2048000,
      "rowLimit": 10000
     },
     "inputWidgets": {},
     "nuid": "70dc1bf8-2c4c-4410-a95d-afe6175ffe22",
     "showTitle": false,
     "tableResultSettingsMap": {},
     "title": ""
    }
   },
   "outputs": [],
   "source": [
    "################################################################################\n",
    "# Task Name: Package/Data Flow Container - Has Event Handler to Log Errors/Add Deposit/V_SelectStatement\n",
    "# Task Type: Microsoft.ScriptTask\n",
    "# Status   : Success  \n",
    "################################################################################\n",
    "def Package_Data_Flow_Container_Has_Event_Handler_to_Log_Errors_Add_Deposit_V_SelectStatement():\n",
    "    log.info(\"executing task: V_SelectStatement\")\n",
    "    try:\n",
    "        LogCall = \"\"\"dbutils.notebook.run(\"dbo_uspSelectTradingBank_Deposits\",0,\n",
    "            {\n",
    "            \"SourceId\": params.User_C_Source_ID,\n",
    "            \"ReportingDate\": params.User_C_Reporting_Date\n",
    "            })\"\"\"\n",
    "        params.User_V_Log_Package_Sql_Cmd = LogCall\n",
    "        User_V_Log_Package_Sql_Desc = \"Select Loan Records\"\n",
    "        params.User_V_Rowcount_Source = 0\n",
    "        params.User_V_Rowcount_Insert = 0\n",
    "        params.User_V_Rowcount_Update = 0\n",
    "        params.User_V_Rowcount_Delete = 0\n",
    "        print(\" \")\n",
    "        print(datetime.now().strftime(\"%Y-%m-%d %H:%M:%S.%f\"))\n",
    "        print(\">>>> Select Statement SQL:\",LogCall,\" \")       \n",
    "    except Exception as e:\n",
    "        print(\"Error occured while executing task: Package/Data Flow Container - Has Event Handler to Log Errors/Add Deposit/V_SelectStatement\")\n",
    "        raise e\n",
    "    \n",
    "    else:\n",
    "        utils.executeMethod([Package_Data_Flow_Container_Has_Event_Handler_to_Log_Errors_Add_Deposit_Exec_V_Log_Package_Sql_Start])"
   ]
  },
  {
   "cell_type": "code",
   "execution_count": 0,
   "metadata": {
    "application/vnd.databricks.v1+cell": {
     "cellMetadata": {
      "byteLimit": 2048000,
      "rowLimit": 10000
     },
     "inputWidgets": {},
     "nuid": "25c4db28-1847-4619-8909-8503ef579d45",
     "showTitle": true,
     "tableResultSettingsMap": {},
     "title": "use function call instead of notebook"
    }
   },
   "outputs": [],
   "source": [
    "################################################################################\n",
    "# Task Name: Package/Data Flow Container - Has Event Handler to Log Errors/Add Deposit/Exec V_Log_Package_Sql_Start\n",
    "# Task Type: Microsoft.ExecuteSQLTask\n",
    "# Status   : Success  \n",
    "################################################################################\n",
    "def Package_Data_Flow_Container_Has_Event_Handler_to_Log_Errors_Add_Deposit_Exec_V_Log_Package_Sql_Start():\n",
    "    log.info(\"executing task: Exec V_Log_Package_Sql_Start\")\n",
    "    try:\n",
    "        # params.User_V_Load_Sequence=dbutils.notebook.run(\"dbo_usp_Insert_ETL_Package_Sql_Log\",0,\n",
    "        #     {\n",
    "        #     \"IN_LOAD_ID\": params.User_V_Load_ID,\n",
    "        #     \"IN_LINEAGE_ID\": params.User_C_Lineage_Id,\n",
    "        #     \"IN_PACKAGE_ID\": params.User_C_Package_Id,\n",
    "        #     \"IN_RUN_ID\": params.User_C_Run_Id,\n",
    "        #     \"IN_GROUP_ID\": params.User_C_Group_ID,\n",
    "        #     \"IN_SCHEDULE_ID\": params.User_C_Schedule_ID,\n",
    "        #     \"IN_LOAD_DATE\": params.User_C_Reporting_Date,\n",
    "        #     \"IN_SQL_START_DATETIME\": datetime.now().strftime(\"%Y-%m-%d %H:%M:%S.%f\"),\n",
    "        #     \"IN_SQL_DESCRIPTION\": params.V_Log_Package_Sql_Desc,\n",
    "        #     \"IN_RUNNING_SQL\": params.User_V_Log_Package_Sql_Cmd\n",
    "        #     })\n",
    "        \n",
    "        params.User_V_Load_Sequence = cf.dbo_usp_Insert_ETL_Package_Sql_Log(            \n",
    "                    params.User_V_Load_ID,\n",
    "                    params.User_C_Lineage_Id,\n",
    "                    params.User_C_Package_Id,\n",
    "                    params.User_C_Run_Id,\n",
    "                    params.User_C_Group_ID,\n",
    "                    params.User_C_Schedule_ID,\n",
    "                    params.User_C_Reporting_Date,\n",
    "                    params.V_Log_Package_Sql_Desc,\n",
    "                    params.User_V_Log_Package_Sql_Cmd,\n",
    "                    datetime.now().strftime(\"%Y-%m-%d %H:%M:%S.%f\"),\n",
    "                    0\n",
    "            )\n",
    "\n",
    "    except Exception as e:\n",
    "        print(\"Error occured while executing task: Package/Data Flow Container - Has Event Handler to Log Errors/Add Deposit/Exec V_Log_Package_Sql_Start\")\n",
    "        raise e\n",
    "    \n",
    "    else:\n",
    "        utils.executeMethod([Package_Data_Flow_Container_Has_Event_Handler_to_Log_Errors_Add_Deposit_DataFlow_Task])"
   ]
  },
  {
   "cell_type": "code",
   "execution_count": 0,
   "metadata": {
    "application/vnd.databricks.v1+cell": {
     "cellMetadata": {
      "byteLimit": 2048000,
      "rowLimit": 10000
     },
     "inputWidgets": {},
     "nuid": "43600652-659a-4376-ab13-4798d48cf4c5",
     "showTitle": false,
     "tableResultSettingsMap": {},
     "title": ""
    }
   },
   "outputs": [],
   "source": [
    "################################################################################\n",
    "# Task Name: Package/Data Flow Container - Has Event Handler to Log Errors/Add Deposit/DataFlow Task\n",
    "# Task Type: Microsoft.Pipeline\n",
    "# Status   : Success  \n",
    "################################################################################\n",
    "def Package_Data_Flow_Container_Has_Event_Handler_to_Log_Errors_Add_Deposit_DataFlow_Task():\n",
    "    log.info(\"executing task: DataFlow Task\")\n",
    "    try:\n",
    "        utils.executeMethod([Package_Data_Flow_Container_Has_Event_Handler_to_Log_Errors_Add_Deposit_DataFlow_Task_V_SelectStatement])\n",
    "\n",
    "    except Exception as e:\n",
    "        print(\"Error occured while executing task: Package/Data Flow Container - Has Event Handler to Log Errors/Add Deposit/DataFlow Task\")\n",
    "        raise e\n",
    "    \n",
    "    else:\n",
    "        utils.executeMethod([Package_Data_Flow_Container_Has_Event_Handler_to_Log_Errors_Add_Deposit_Exec_V_Log_Package_Sql_End])"
   ]
  },
  {
   "cell_type": "code",
   "execution_count": 0,
   "metadata": {
    "application/vnd.databricks.v1+cell": {
     "cellMetadata": {
      "byteLimit": 2048000,
      "rowLimit": 10000
     },
     "inputWidgets": {},
     "nuid": "7a4cd65a-ded7-4b8f-a49f-44946c0a65a9",
     "showTitle": false,
     "tableResultSettingsMap": {},
     "title": ""
    }
   },
   "outputs": [],
   "source": [
    "################################################################################\n",
    "# Task Name: Package/Data Flow Container - Has Event Handler to Log Errors/Add Deposit/DataFlow Task/V_SelectStatement\n",
    "# Task Type: Microsoft.OLEDBSource\n",
    "# Status   : Success   \n",
    "################################################################################\n",
    "def Package_Data_Flow_Container_Has_Event_Handler_to_Log_Errors_Add_Deposit_DataFlow_Task_V_SelectStatement():\n",
    "    log.info(\"executing task: V_SelectStatement\")\n",
    "    try:\n",
    "        User_V_Rowcount_Source=0            \n",
    "        dbutils.notebook.run(f\"\"\"{gc.sp_path}/dbo_uspSelectTradingBank_Deposits\"\"\",0,\n",
    "            {\n",
    "            \"SourceID\": params.User_C_Source_ID,\n",
    "            \"ReportingDate\": params.User_C_Reporting_Date\n",
    "            })\n",
    "\n",
    "    except Exception as e:\n",
    "        print(\"Error occured while executing task: Package/Data Flow Container - Has Event Handler to Log Errors/Add Deposit/DataFlow Task/V_SelectStatement\")\n",
    "\n",
    "        raise e\n",
    "    else:\n",
    "        utils.executeMethod([Package_Data_Flow_Container_Has_Event_Handler_to_Log_Errors_Add_Deposit_DataFlow_Task_V_Rowcount_Source])\n",
    "        ()\n"
   ]
  },
  {
   "cell_type": "code",
   "execution_count": 0,
   "metadata": {
    "application/vnd.databricks.v1+cell": {
     "cellMetadata": {
      "byteLimit": 2048000,
      "rowLimit": 10000
     },
     "inputWidgets": {},
     "nuid": "caa9a7ed-132d-4844-bba1-1cbbaff26ce8",
     "showTitle": false,
     "tableResultSettingsMap": {},
     "title": ""
    }
   },
   "outputs": [],
   "source": [
    "################################################################################\n",
    "# Task Name: Package/Data Flow Container - Has Event Handler to Log Errors/Add Deposit/DataFlow Task/V_Rowcount_Source\n",
    "# Task Type: Microsoft.RowCount\n",
    "# Status   : Success  \n",
    "################################################################################\n",
    "def Package_Data_Flow_Container_Has_Event_Handler_to_Log_Errors_Add_Deposit_DataFlow_Task_V_Rowcount_Source():\n",
    "    log.info(\"executing component: V_Rowcount_Source\")\n",
    "    try:\n",
    "        rowcount_src= f\"\"\"select count(*) as cnt from global_temp.uspSelectTradingBank_Deposits_output\"\"\"\n",
    "        rowcount_srcoutput = utils.executeQuery(rowcount_src)\n",
    "        rowcount_srcoutputdf = rowcount_srcoutput.resultObject\n",
    "        if rowcount_srcoutputdf.isEmpty():\n",
    "            params.User_V_Rowcount_Source = 0\n",
    "        else:\n",
    "            params.User_V_Rowcount_Source = rowcount_srcoutputdf.first()[\"cnt\"]\n",
    "\n",
    "    except Exception as e:\n",
    "        print(\"Error occured while executing task: Package/Data Flow Container - Has Event Handler to Log Errors/Add Deposit/DataFlow Task/V_Rowcount_Source\")\n",
    "\n",
    "        raise e\n",
    "    else:      \n",
    "        utils.executeMethod([Package_Data_Flow_Container_Has_Event_Handler_to_Log_Errors_Add_Deposit_DataFlow_Task_Derived_Column_1])"
   ]
  },
  {
   "cell_type": "code",
   "execution_count": 0,
   "metadata": {
    "application/vnd.databricks.v1+cell": {
     "cellMetadata": {
      "byteLimit": 2048000,
      "rowLimit": 10000
     },
     "inputWidgets": {},
     "nuid": "5da51aec-2b56-42de-8482-40bab2385ed1",
     "showTitle": false,
     "tableResultSettingsMap": {},
     "title": ""
    }
   },
   "outputs": [],
   "source": [
    "################################################################################\n",
    "# Task Name: Package/Data Flow Container - Has Event Handler to Log Errors/Add Deposit/DataFlow Task/Derived Column 1\n",
    "# Task Type: Microsoft.DerivedColumn\n",
    "# Status   : Success  \n",
    "################################################################################\n",
    "def Package_Data_Flow_Container_Has_Event_Handler_to_Log_Errors_Add_Deposit_DataFlow_Task_Derived_Column_1():\n",
    "    log.info(\"executing component: Derived Column 1\")\n",
    "    try:\n",
    "        allcol= f\"\"\"select * from global_temp.uspSelectTradingBank_Deposits_output\"\"\"\n",
    "        allcol_coutput = utils.executeQuery(allcol)\n",
    "        allcol_coutputdf = allcol_coutput.resultObject   \n",
    "        derived_col_df = allcol_coutputdf.withColumn(\n",
    "            \"DateCreated\", \n",
    "            lit(datetime.now().strftime(\"%Y-%m-%d %H:%M:%S.%f\"))\n",
    "        ).withColumn(\n",
    "            \"Framework.LoadId\", \n",
    "            lit(params.User_C_ParentLoadID)\n",
    "        )\n",
    "        derived_col_df.createOrReplaceTempView(\"Derived_Column_1_Output\")\n",
    "\n",
    "    except Exception as e:\n",
    "        print(\"Error occured while executing task: Package/Data Flow Container - Has Event Handler to Log Errors/Add Deposit/DataFlow Task/Derived Column 1\")\n",
    "        raise e\n",
    "    \n",
    "    else:\n",
    "        utils.executeMethod([Package_Data_Flow_Container_Has_Event_Handler_to_Log_Errors_Add_Deposit_DataFlow_Task_Data_Conversion])"
   ]
  },
  {
   "cell_type": "code",
   "execution_count": 0,
   "metadata": {
    "application/vnd.databricks.v1+cell": {
     "cellMetadata": {
      "byteLimit": 2048000,
      "rowLimit": 10000
     },
     "inputWidgets": {},
     "nuid": "601abde2-b5f8-4e41-802f-2f0f8cba4356",
     "showTitle": false,
     "tableResultSettingsMap": {},
     "title": ""
    }
   },
   "outputs": [],
   "source": [
    "################################################################################\n",
    "# Task Name: Package/Data Flow Container - Has Event Handler to Log Errors/Add Deposit/DataFlow Task/Data Conversion\n",
    "# Task Type: Microsoft.DataConvert\n",
    "# Status   : Success  \n",
    "################################################################################\n",
    "def Package_Data_Flow_Container_Has_Event_Handler_to_Log_Errors_Add_Deposit_DataFlow_Task_Data_Conversion():\n",
    "    log.info(\"executing component: Data Conversion\")\n",
    "    try:\n",
    "        query = f\"\"\"select \n",
    "            derived_out.*,\n",
    "            DateCreated as DateCreated2,\n",
    "            `Framework.LoadId`,\n",
    "            CAST(substring( DealID,1,30) AS string) as DealID2,\n",
    "            CAST(substring( GLProductCode,1,14) AS string) as GLProductCode2,\n",
    "            CAST(substring( InterestPaymentFreqTermMult,1,5) AS string) as InterestPaymentFreqTermMult2,\n",
    "            CAST(substring( ProductCode,1,50) AS string) as ProductCode2,\n",
    "            CAST(substring( SMSFFlag,1,1) AS string) as SMSFFlag2\n",
    "        from \n",
    "            Derived_Column_1_Output as derived_out\n",
    "            \"\"\"\n",
    "        queryOutput = utils.executeQuery(query, temporary_table='Add_Deposit_DataFlow_Task_Data_Conversion', in_memory=True)\n",
    "\n",
    "    except Exception as e:\n",
    "        print(\"Error occured while executing task: Package/Data Flow Container - Has Event Handler to Log Errors/Add Deposit/DataFlow Task/Data Conversion\")\n",
    "\n",
    "        raise e\n",
    "    else:\n",
    "        utils.executeMethod([Package_Data_Flow_Container_Has_Event_Handler_to_Log_Errors_Add_Deposit_DataFlow_Task_V_Rowcount_Insert])"
   ]
  },
  {
   "cell_type": "code",
   "execution_count": 0,
   "metadata": {
    "application/vnd.databricks.v1+cell": {
     "cellMetadata": {
      "byteLimit": 2048000,
      "rowLimit": 10000
     },
     "inputWidgets": {},
     "nuid": "2fe1d00d-bb82-44c1-96be-72078c9fa8e9",
     "showTitle": false,
     "tableResultSettingsMap": {},
     "title": ""
    }
   },
   "outputs": [],
   "source": [
    "################################################################################\n",
    "# Task Name: Package/Data Flow Container - Has Event Handler to Log Errors/Add Deposit/DataFlow Task/V_Rowcount_Insert\n",
    "# Task Type: Microsoft.RowCount\n",
    "# Status   : Success  \n",
    "################################################################################\n",
    "def Package_Data_Flow_Container_Has_Event_Handler_to_Log_Errors_Add_Deposit_DataFlow_Task_V_Rowcount_Insert():\n",
    "    log.info(\"executing component: V_Rowcount_Insert\")\n",
    "    try:\n",
    "        query2 = f\"\"\"select count(*) as cnt from Add_Deposit_DataFlow_Task_Data_Conversion\"\"\"\n",
    "        queryOutput2 = utils.executeQuery(query2)\n",
    "        queryOutput2_df = queryOutput2.resultObject\n",
    "        if queryOutput2_df.isEmpty():\n",
    "            params.User_V_Rowcount_Insert = 0\n",
    "        else:\n",
    "            params.User_V_Rowcount_Insert = queryOutput2_df.first()[\"cnt\"]\n",
    "\n",
    "    except Exception as e:\n",
    "        print(\"Error occured while executing task: Package/Data Flow Container - Has Event Handler to Log Errors/Add Deposit/DataFlow Task/V_Rowcount_Insert\")\n",
    "        raise e\n",
    "    \n",
    "    else:\n",
    "        utils.executeMethod([Package_Data_Flow_Container_Has_Event_Handler_to_Log_Errors_Add_Deposit_DataFlow_Task_Daily_Destination])"
   ]
  },
  {
   "cell_type": "code",
   "execution_count": 0,
   "metadata": {
    "application/vnd.databricks.v1+cell": {
     "cellMetadata": {
      "byteLimit": 2048000,
      "rowLimit": 10000
     },
     "inputWidgets": {},
     "nuid": "78c9ce29-0570-4261-a0cf-0990a07fdd2c",
     "showTitle": false,
     "tableResultSettingsMap": {},
     "title": ""
    }
   },
   "outputs": [],
   "source": [
    "def Package_Data_Flow_Container_Has_Event_Handler_to_Log_Errors_Add_Deposit_DataFlow_Task_Daily_Destination():\n",
    "    log.info(\"executing task: Daily Destination\")\n",
    "    try:\n",
    "        query3 = f\"\"\"insert into {TDM_CDM_Working}.tblDeposits (dBusinessDate,SourceId,AccruedInterestAmount,BonusInterestRate,CustomerCISKey,DealID,DealType, FixedVariableFlag,GLAccountCode,GLCentreCode,GLEntityCode,GLIntragroupCode,GLLocationCode,GLProductCode,InterestIndex,InterestPaymentFreqTermMult,InterestNextPaymentDate,InterestTotalRate,NaturalCurrency,OriginalDataSource,PhysicalAmount,ProductCode,SettlementDate,TradeDate,DateCreated,LoadId,DataLineageId,OverdraftInterestRate,GLRelationshipCode,AcctSMSFFlag,RelMgtType,EffectiveIntRate,GLMovementCode,Acct_Lon_Grde,Grace_Period_Date,CurrentPayment,CampaignInterestRate,SCGCode,GTSCustomerSegmentation,GTSSegmentationSubCategory,GTSIntermediary)\n",
    "        select\n",
    "        dBusinessDate,SourceId,AccruedInterestAmount,BonusInterestRate,try_cast(CustomerCISKey as decimal(15,0)),DealID2,SOURCE_PRODUCT_CODE, FixedVariableFlag,GLAccountCode,GLCentreCode,GLEntityCode,GLIntragroupCode,GLLocationCode,GLProductCode2,InterestIndex,InterestPaymentFreqTermMult2,InterestNextPaymentDate,InterestTotalRate,NaturalCurrency,OriginalDataSource,PhysicalAmount,ProductCode2,SettlementDate,TradeDate,DateCreated2,`Framework.LoadId`,DataLineageId,OverdraftInterestRate,GLRelationshipCode,SMSFFlag2,RM_TYPE,EffectiveIntRate,GLMovement,ACCT_LON_GRDE,Grace_Period_Date,CurrentPayment,CampaignInterestRate,SCGCode,GTSCustomerSegmentation,GTSSegmentationSubCategory,GTSIntermediary from Add_Deposit_DataFlow_Task_Data_Conversion\"\"\"\n",
    "        queryOutput3 = utils.executeQuery(query3)\n",
    "\n",
    "    except Exception as e:\n",
    "        print(\"Error occurred while executing task: Package/Data Flow Container - Has Event Handler to Log Errors/Add Deposit/DataFlow Task/Daily Destination\")\n",
    "        raise e"
   ]
  },
  {
   "cell_type": "code",
   "execution_count": 0,
   "metadata": {
    "application/vnd.databricks.v1+cell": {
     "cellMetadata": {
      "byteLimit": 2048000,
      "rowLimit": 10000
     },
     "inputWidgets": {},
     "nuid": "7fe5be7c-89dc-4ad1-b9a7-1d45d843731e",
     "showTitle": false,
     "tableResultSettingsMap": {},
     "title": ""
    }
   },
   "outputs": [],
   "source": [
    "################################################################################\n",
    "# Task Name: Package/Data Flow Container - Has Event Handler to Log Errors/Add Deposit/Exec V_Log_Package_Sql_End\n",
    "# Task Type: Microsoft.ExecuteSQLTask\n",
    "# Status   : Success  \n",
    "################################################################################\n",
    "def Package_Data_Flow_Container_Has_Event_Handler_to_Log_Errors_Add_Deposit_Exec_V_Log_Package_Sql_End():\n",
    "    log.info(\"executing task: Exec V_Log_Package_Sql_End\")\n",
    "    try:\n",
    "        IN_SQL_END_DATETIME=datetime.now().strftime(\"%Y-%m-%d %H:%M:%S.%f\")\n",
    "        # dbutils.notebook.run(\"dbo_usp_Update_ETL_Package_Sql_Log\",0,\n",
    "        #     {\n",
    "        #     \"IN_LOAD_ID\": params.User_V_Load_ID,\n",
    "        #     \"IN_LOAD_SEQUENCE\": params.User_V_Load_Sequence,\n",
    "        #     \"IN_SQL_END_DATETIME\": IN_SQL_END_DATETIME,\n",
    "        #     \"IN_ROW_SOURCE_COUNT\": params.User_V_Rowcount_Source,\n",
    "        #     \"IN_ROW_INSERT_COUNT\": params.User_V_Rowcount_Insert,\n",
    "        #     \"IN_ROW_UPDATE_COUNT\": params.User_V_Rowcount_Update,\n",
    "        #     \"IN_ROW_DELETE_COUNT\": params.User_V_Rowcount_Delete,\n",
    "        #     \"IN_ROW_UNMATCHEDFK_COUNT\": None\n",
    "        #     })\n",
    "        cf.dbo_usp_Update_ETL_Package_Sql_Log(            \n",
    "            params.User_V_Load_ID,\n",
    "            params.User_V_Load_Sequence,\n",
    "            IN_SQL_END_DATETIME,\n",
    "            params.User_V_Rowcount_Source,\n",
    "            params.User_V_Rowcount_Insert,\n",
    "            params.User_V_Rowcount_Update,\n",
    "            params.User_V_Rowcount_Delete,\n",
    "            None\n",
    "            )\n",
    "\n",
    "    except Exception as e:\n",
    "        print(\"Error occured while executing task: Package/Data Flow Container - Has Event Handler to Log Errors/Add Deposit/Exec V_Log_Package_Sql_End\")\n",
    "        raise e"
   ]
  },
  {
   "cell_type": "code",
   "execution_count": 0,
   "metadata": {
    "application/vnd.databricks.v1+cell": {
     "cellMetadata": {
      "byteLimit": 2048000,
      "rowLimit": 10000
     },
     "inputWidgets": {},
     "nuid": "7088aee5-4c4c-41ad-91b0-82992c5cfed1",
     "showTitle": false,
     "tableResultSettingsMap": {},
     "title": ""
    }
   },
   "outputs": [],
   "source": [
    "################################################################################\n",
    "# Task Name: Package/Data Flow Container - Package_Data_Flow_Container_Has_Event_Handler_to_Log_Errors_EventHandlers_OnError_Log_Error\n",
    "# Task Type: Microsoft.ExecuteSQLTask\n",
    "# Status   : Success  \n",
    "################################################################################\n",
    "def Package_Data_Flow_Container_Has_Event_Handler_to_Log_Errors_EventHandlers_OnError_Log_Error():\n",
    "    log.info(\"executing task: Data Flow Container - Has Event Handler to Log Errors\")\n",
    "    try:\n",
    "        dbutils.notebook.run(\"dbo_ETL_Error_Report\",0,\n",
    "            {\n",
    "            \"p_run_id\": params.User_C_Run_Id,\n",
    "            \"p_load_id\": params.User_V_Load_ID,\n",
    "            \"p_lineage_id\": params.User_C_Lineage_Id,\n",
    "            \"p_thread_id\": params.User_C_Thread_Id,\n",
    "            \"p_location_desc\": params.SourceName,\n",
    "            \"p_sql_err_cd\": params.ErrorCode,\n",
    "            \"p_error_message\": params.ErrorDescription,\n",
    "            \"pkg_name\": params.PackageName\n",
    "            })\n",
    "\n",
    "    except Exception as e:\n",
    "        print(\"Error occured while executing task: Package/Data Flow Container - Has Event Handler to Log Errors\")\n",
    "        raise e"
   ]
  },
  {
   "cell_type": "code",
   "execution_count": 0,
   "metadata": {
    "application/vnd.databricks.v1+cell": {
     "cellMetadata": {
      "byteLimit": 2048000,
      "rowLimit": 10000
     },
     "inputWidgets": {},
     "nuid": "e35ab980-2cb5-409d-9bec-e527e945d9a1",
     "showTitle": false,
     "tableResultSettingsMap": {},
     "title": ""
    }
   },
   "outputs": [],
   "source": [
    "################################################################################\n",
    "# Task Name: Package/Set Package Status based on Row counts\n",
    "# Task Type: Microsoft.ScriptTask\n",
    "# Status   : Success  \n",
    "################################################################################\n",
    "def Package_Set_Package_Status_based_on_Row_counts():\n",
    "    log.info(\"executing task: Set Package Status based on Row counts\")\n",
    "    try:\n",
    "        if int(params.User_V_Rowcount_Source) == 0:\n",
    "            User_V_Package_Status_Code = int(params.User_C_Status_NoData)\n",
    "        elif int(params.User_V_Rowcount_Source) == (int(params.User_V_Rowcount_Insert) + int(params.User_V_Rowcount_Update) + int(params.User_V_Rowcount_Ignore)):\n",
    "                User_V_Package_Status_Code = int(params.User_C_Status_Success)\n",
    "        else:\n",
    "            User_V_Package_Status_Code = int(params.User_C_Status_OutOfBalance)\n",
    "    except Exception as e:\n",
    "        print(\"Error occured while executing task: Package/Set Package Status based on Row counts\")\n",
    "        raise e\n",
    "\n",
    "    else:\n",
    "        utils.executeMethod([Package_V_Log_Package_End])"
   ]
  },
  {
   "cell_type": "code",
   "execution_count": 0,
   "metadata": {
    "application/vnd.databricks.v1+cell": {
     "cellMetadata": {
      "byteLimit": 2048000,
      "rowLimit": 10000
     },
     "inputWidgets": {},
     "nuid": "4b801f6f-9ee3-48ca-b8b5-fee9fdd91ee4",
     "showTitle": false,
     "tableResultSettingsMap": {},
     "title": ""
    }
   },
   "outputs": [],
   "source": [
    "################################################################################\n",
    "# Task Name: Package/V_Log_Package_End\n",
    "# Task Type: Microsoft.ScriptTask\n",
    "# Status   : Success  \n",
    "################################################################################\n",
    "def Package_V_Log_Package_End():\n",
    "    log.info(\"executing task: V_Log_Package_End\")\n",
    "    try:\n",
    "        LogCall = 'dbo_ETL_Package_End( '+  str(params.User_V_Load_ID)+','+    str(params.User_V_Package_Status_Code)+','+    str(params.User_V_Rowcount_Source)+','+     str(params.User_V_Rowcount_Insert)+','+      str(params.User_V_Rowcount_Update)+','+            str(params.User_V_Rowcount_Delete)+','+            str(params.User_V_Rowcount_Error)+','+            str(params.User_V_Rowcount_Ignore)+')'  \n",
    "        print(\" \")\n",
    "        print(datetime.now().strftime(\"%Y-%m-%d %H:%M:%S.%f\"))\n",
    "        print(\">>>> Running Procedure:\",LogCall,\" \")\n",
    "    except Exception as e:\n",
    "        print(\"Error occured while executing task: Package/V_Log_Package_End\")\n",
    "        raise e\n",
    "    \n",
    "    else:\n",
    "        utils.executeMethod([Package_Exec_V_Log_Package_End])"
   ]
  },
  {
   "cell_type": "code",
   "execution_count": 0,
   "metadata": {
    "application/vnd.databricks.v1+cell": {
     "cellMetadata": {
      "byteLimit": 2048000,
      "rowLimit": 10000
     },
     "inputWidgets": {},
     "nuid": "090c6980-ebd7-49b3-949c-2d871da18ca8",
     "showTitle": false,
     "tableResultSettingsMap": {},
     "title": ""
    }
   },
   "outputs": [],
   "source": [
    "################################################################################\n",
    "# Task Name: Package/Exec V_Log_Package_End\n",
    "# Task Type: Microsoft.ExecuteSQLTask\n",
    "# Status   : Success \n",
    "################################################################################\n",
    "def Package_Exec_V_Log_Package_End():\n",
    "    log.info(\"executing task: Exec V_Log_Package_End\")\n",
    "    try:\n",
    "        # dbutils.notebook.run(\"dbo_ETL_Package_End\",0,\n",
    "        #     {\n",
    "        #     \"p_load_id\": params.User_V_Load_ID,\n",
    "        #     \"p_status_code\": params.User_V_Package_Status_Code,\n",
    "        #     \"p_row_source_count\": params.User_V_Rowcount_Source,\n",
    "        #     \"p_row_insert_count\": params.User_V_Rowcount_Insert,\n",
    "        #     \"p_row_update_count\": params.User_V_Rowcount_Update,\n",
    "        #     \"p_row_delete_count\": params.User_V_Rowcount_Delete,\n",
    "        #     \"p_row_error_count\": params.User_V_Rowcount_Error,\n",
    "        #     \"p_row_ignore_count\": params.User_V_Rowcount_Ignore\n",
    "        #     })\n",
    "        \n",
    "        cf.dbo_ETL_Package_End(\n",
    "            params.User_V_Load_ID,\n",
    "            params.User_V_Package_Status_Code,\n",
    "            params.User_V_Rowcount_Source,\n",
    "            params.User_V_Rowcount_Insert,\n",
    "            params.User_V_Rowcount_Update,\n",
    "            params.User_V_Rowcount_Delete,\n",
    "            params.User_V_Rowcount_Error,\n",
    "            params.User_V_Rowcount_Ignore\n",
    "            )\n",
    "        \n",
    "\n",
    "    except Exception as e:\n",
    "        print(\"Error occured while executing task: Package/Exec V_Log_Package_End\")\n",
    "        raise e"
   ]
  },
  {
   "cell_type": "code",
   "execution_count": 0,
   "metadata": {
    "application/vnd.databricks.v1+cell": {
     "cellMetadata": {
      "byteLimit": 2048000,
      "rowLimit": 10000
     },
     "inputWidgets": {},
     "nuid": "8cdab5a3-bca1-487a-a08c-1049ff739a04",
     "showTitle": false,
     "tableResultSettingsMap": {},
     "title": ""
    }
   },
   "outputs": [],
   "source": [
    "################################################################################\n",
    "# Task Name: Package.EventHandlers[OnError]/Log Error\n",
    "# Task Type: Microsoft.ExecuteSQLTask\n",
    "# Status   : Success  \n",
    "################################################################################\n",
    "def Package_EventHandlers_OnError_Log_Error():\n",
    "    log.info(\"executing task: Log Error\")\n",
    "    try:\n",
    "        dbutils.notebook.run(\"dbo_ETL_Error_Report\",0,\n",
    "            {\n",
    "            \"p_run_id\": params.User_C_Run_Id,\n",
    "            \"p_load_id\": params.User_V_Load_ID,\n",
    "            \"p_lineage_id\": params.User_C_Lineage_Id,\n",
    "            \"p_thread_id\": params.User_C_Thread_Id,\n",
    "            \"p_location_desc\": params.SourceName,\n",
    "            \"p_sql_err_cd\": params.ErrorCode,\n",
    "            \"p_error_message\": params.ErrorDescription,\n",
    "            \"pkg_name\": params.PackageName\n",
    "            })\n",
    "\n",
    "    except Exception as e:\n",
    "        raise e\n",
    "        \n",
    "    else:\n",
    "        utils.executeMethod([Package_EventHandlers_OnError_End_Package])"
   ]
  },
  {
   "cell_type": "code",
   "execution_count": 0,
   "metadata": {
    "application/vnd.databricks.v1+cell": {
     "cellMetadata": {
      "byteLimit": 2048000,
      "rowLimit": 10000
     },
     "inputWidgets": {},
     "nuid": "3368bc14-7f6d-46ef-969a-c439bcc49526",
     "showTitle": false,
     "tableResultSettingsMap": {},
     "title": ""
    }
   },
   "outputs": [],
   "source": [
    "################################################################################\n",
    "# Task Name: Package.EventHandlers[OnError]/End Package\n",
    "# Task Type: Microsoft.ExecuteSQLTask\n",
    "# Status   : Success  \n",
    "################################################################################\n",
    "def Package_EventHandlers_OnError_End_Package():\n",
    "    log.info(\"executing task: End Package\")\n",
    "    try:\n",
    "\n",
    "        # dbutils.notebook.run(\"dbo_ETL_Package_End\",0,\n",
    "        #     {\n",
    "        #     \"p_load_id\": params.User_V_Load_ID,\n",
    "        #     \"p_status_code\": params.User_C_Status_Fatal_Abort,\n",
    "        #     \"p_row_source_count\": None,\n",
    "        #     \"p_row_insert_count\": None,\n",
    "        #     \"p_row_update_count\": None,\n",
    "        #     \"p_row_delete_count\": None,\n",
    "        #     \"p_row_error_count\": None,\n",
    "        #     \"p_row_ignore_count\": None\n",
    "        #     })\n",
    "        cf.dbo_ETL_Package_End(            \n",
    "            params.User_V_Load_ID,\n",
    "            params.User_C_Status_Fatal_Abort,\n",
    "            None,\n",
    "            None,\n",
    "            None,\n",
    "            None,\n",
    "            None,\n",
    "            None\n",
    "            )\n",
    "        \n",
    "    except Exception as e:\n",
    "        raise e"
   ]
  },
  {
   "cell_type": "code",
   "execution_count": 0,
   "metadata": {
    "application/vnd.databricks.v1+cell": {
     "cellMetadata": {
      "byteLimit": 2048000,
      "rowLimit": 10000
     },
     "inputWidgets": {},
     "nuid": "602de107-1d15-4a5d-b83f-920b75f067bf",
     "showTitle": false,
     "tableResultSettingsMap": {},
     "title": ""
    }
   },
   "outputs": [],
   "source": [
    "## Main Execution - Starts here\n",
    "\n",
    "\n",
    "try:\n",
    "    global user_pkg_variables\n",
    "    user_pkg_variables={}\n",
    "    utils.executeMethod([Package_V_Log_Package_Start])\n",
    "except Exception as e:\n",
    "    print(e)\n",
    "    utils.executeMethod([Package_EventHandlers_OnError_Log_Error])\n",
    "    raise Exception(\"Error occured while executing job package TradingBank \", e)"
   ]
  },
  {
   "cell_type": "markdown",
   "metadata": {
    "application/vnd.databricks.v1+cell": {
     "cellMetadata": {},
     "inputWidgets": {},
     "nuid": "3aa90a51-67a7-43a9-9467-d32f8a216bd3",
     "showTitle": false,
     "tableResultSettingsMap": {},
     "title": ""
    }
   },
   "source": [
    "\n"
   ]
  }
 ],
 "metadata": {
  "application/vnd.databricks.v1+notebook": {
   "computePreferences": null,
   "dashboards": [],
   "environmentMetadata": null,
   "language": "python",
   "notebookMetadata": {
    "pythonIndentUnit": 2
   },
   "notebookName": "TradingBank",
   "widgets": {}
  },
  "language_info": {
   "name": "python"
  }
 },
 "nbformat": 4,
 "nbformat_minor": 0
}
